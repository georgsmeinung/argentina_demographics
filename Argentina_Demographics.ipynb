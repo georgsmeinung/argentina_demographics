{
  "metadata": {
    "kernelspec": {
      "language": "python",
      "display_name": "Python 3",
      "name": "python3"
    },
    "language_info": {
      "name": "python",
      "version": "3.10.14",
      "mimetype": "text/x-python",
      "codemirror_mode": {
        "name": "ipython",
        "version": 3
      },
      "pygments_lexer": "ipython3",
      "nbconvert_exporter": "python",
      "file_extension": ".py"
    },
    "kaggle": {
      "accelerator": "none",
      "dataSources": [
        {
          "sourceId": 9429761,
          "sourceType": "datasetVersion",
          "datasetId": 5728734
        }
      ],
      "dockerImageVersionId": 30761,
      "isInternetEnabled": true,
      "language": "python",
      "sourceType": "notebook",
      "isGpuEnabled": false
    },
    "colab": {
      "name": "Argentina Demographics",
      "provenance": [],
      "include_colab_link": true
    }
  },
  "nbformat_minor": 0,
  "nbformat": 4,
  "cells": [
    {
      "cell_type": "markdown",
      "metadata": {
        "id": "view-in-github",
        "colab_type": "text"
      },
      "source": [
        "<a href=\"https://colab.research.google.com/github/georgsmeinung/argentina_demographics/blob/main/Argentina_Demographics.ipynb\" target=\"_parent\"><img src=\"https://colab.research.google.com/assets/colab-badge.svg\" alt=\"Open In Colab\"/></a>"
      ]
    },
    {
      "source": [
        "\n",
        "# IMPORTANT: RUN THIS CELL IN ORDER TO IMPORT YOUR KAGGLE DATA SOURCES\n",
        "# TO THE CORRECT LOCATION (/kaggle/input) IN YOUR NOTEBOOK,\n",
        "# THEN FEEL FREE TO DELETE THIS CELL.\n",
        "# NOTE: THIS NOTEBOOK ENVIRONMENT DIFFERS FROM KAGGLE'S PYTHON\n",
        "# ENVIRONMENT SO THERE MAY BE MISSING LIBRARIES USED BY YOUR\n",
        "# NOTEBOOK.\n",
        "\n",
        "import os\n",
        "import sys\n",
        "from tempfile import NamedTemporaryFile\n",
        "from urllib.request import urlopen\n",
        "from urllib.parse import unquote, urlparse\n",
        "from urllib.error import HTTPError\n",
        "from zipfile import ZipFile\n",
        "import tarfile\n",
        "import shutil\n",
        "\n",
        "CHUNK_SIZE = 40960\n",
        "DATA_SOURCE_MAPPING = 'argentina-demographics-1869-2022:https%3A%2F%2Fstorage.googleapis.com%2Fkaggle-data-sets%2F5728734%2F9429761%2Fbundle%2Farchive.zip%3FX-Goog-Algorithm%3DGOOG4-RSA-SHA256%26X-Goog-Credential%3Dgcp-kaggle-com%2540kaggle-161607.iam.gserviceaccount.com%252F20240918%252Fauto%252Fstorage%252Fgoog4_request%26X-Goog-Date%3D20240918T194046Z%26X-Goog-Expires%3D259200%26X-Goog-SignedHeaders%3Dhost%26X-Goog-Signature%3D505c7f01b80a705d7b62ca6c0de87a13b981b36dbc46964c4021d5124400e9d0c5cfcc6d2ffa0b55c376bfcfbbd4515d1318ff978fb93fe453bcac35cc8fca723b0a4ec1513d70adefa798efab0ed7330e9311c7a89acf531f68767a0bf72ed5636d3ada050af5532c707adc6f037be5529c9b4a69aec54e88b60f4af656178d22d9dc71596b1b625877c1bad4b8bb60c001ef6b1133bb115ca0ef98f92124ddff9a307f3db92911b1796c3fefcea5c241a078509906682932d8fdb3e65d9a8c8f83de68ba90fbacb4bbc0386305d2c4fb260ee9f6a6fab2bee257b40ddafa2440bd63349b51d15cc037cd550f6e714201b6a40571283383b3a805a3f4806cee'\n",
        "\n",
        "KAGGLE_INPUT_PATH='/kaggle/input'\n",
        "KAGGLE_WORKING_PATH='/kaggle/working'\n",
        "KAGGLE_SYMLINK='kaggle'\n",
        "\n",
        "!umount /kaggle/input/ 2> /dev/null\n",
        "shutil.rmtree('/kaggle/input', ignore_errors=True)\n",
        "os.makedirs(KAGGLE_INPUT_PATH, 0o777, exist_ok=True)\n",
        "os.makedirs(KAGGLE_WORKING_PATH, 0o777, exist_ok=True)\n",
        "\n",
        "try:\n",
        "  os.symlink(KAGGLE_INPUT_PATH, os.path.join(\"..\", 'input'), target_is_directory=True)\n",
        "except FileExistsError:\n",
        "  pass\n",
        "try:\n",
        "  os.symlink(KAGGLE_WORKING_PATH, os.path.join(\"..\", 'working'), target_is_directory=True)\n",
        "except FileExistsError:\n",
        "  pass\n",
        "\n",
        "for data_source_mapping in DATA_SOURCE_MAPPING.split(','):\n",
        "    directory, download_url_encoded = data_source_mapping.split(':')\n",
        "    download_url = unquote(download_url_encoded)\n",
        "    filename = urlparse(download_url).path\n",
        "    destination_path = os.path.join(KAGGLE_INPUT_PATH, directory)\n",
        "    try:\n",
        "        with urlopen(download_url) as fileres, NamedTemporaryFile() as tfile:\n",
        "            total_length = fileres.headers['content-length']\n",
        "            print(f'Downloading {directory}, {total_length} bytes compressed')\n",
        "            dl = 0\n",
        "            data = fileres.read(CHUNK_SIZE)\n",
        "            while len(data) > 0:\n",
        "                dl += len(data)\n",
        "                tfile.write(data)\n",
        "                done = int(50 * dl / int(total_length))\n",
        "                sys.stdout.write(f\"\\r[{'=' * done}{' ' * (50-done)}] {dl} bytes downloaded\")\n",
        "                sys.stdout.flush()\n",
        "                data = fileres.read(CHUNK_SIZE)\n",
        "            if filename.endswith('.zip'):\n",
        "              with ZipFile(tfile) as zfile:\n",
        "                zfile.extractall(destination_path)\n",
        "            else:\n",
        "              with tarfile.open(tfile.name) as tarfile:\n",
        "                tarfile.extractall(destination_path)\n",
        "            print(f'\\nDownloaded and uncompressed: {directory}')\n",
        "    except HTTPError as e:\n",
        "        print(f'Failed to load (likely expired) {download_url} to path {destination_path}')\n",
        "        continue\n",
        "    except OSError as e:\n",
        "        print(f'Failed to load {download_url} to path {destination_path}')\n",
        "        continue\n",
        "\n",
        "print('Data source import complete.')\n"
      ],
      "metadata": {
        "id": "8oRJ2FmKpt7q",
        "outputId": "2fb712e5-23e8-4bcd-9354-2f8cab6aab01",
        "colab": {
          "base_uri": "https://localhost:8080/"
        }
      },
      "cell_type": "code",
      "outputs": [
        {
          "output_type": "stream",
          "name": "stdout",
          "text": [
            "Downloading argentina-demographics-1869-2022, 105763 bytes compressed\n",
            "[==================================================] 105763 bytes downloaded\n",
            "Downloaded and uncompressed: argentina-demographics-1869-2022\n",
            "Data source import complete.\n"
          ]
        }
      ],
      "execution_count": 1
    },
    {
      "cell_type": "code",
      "source": [
        "# This Python 3 environment comes with many helpful analytics libraries installed\n",
        "# It is defined by the kaggle/python Docker image: https://github.com/kaggle/docker-python\n",
        "# For example, here's several helpful packages to load\n",
        "\n",
        "import numpy as np # linear algebra\n",
        "import polars as pl # data processing, CSV file I/O (e.g. pd.read_csv)\n",
        "\n",
        "# Input data files are available in the read-only \"../input/\" directory\n",
        "# For example, running this (by clicking run or pressing Shift+Enter) will list all files under the input directory\n",
        "\n",
        "import os\n",
        "for dirname, _, filenames in os.walk('/kaggle/input'):\n",
        "    for filename in filenames:\n",
        "        print(os.path.join(dirname, filename))\n",
        "        file_origin = os.path.join(dirname, filename)\n",
        "\n",
        "# You can write up to 20GB to the current directory (/kaggle/working/) that gets preserved as output when you create a version using \"Save & Run All\"\n",
        "# You can also write temporary files to /kaggle/temp/, but they won't be saved outside of the current session\n",
        "\n",
        "# Load the CSV into a Polars DataFrame\n",
        "df = pl.read_csv(file_origin)\n",
        "\n",
        "# Display the DataFrame\n",
        "print(df)"
      ],
      "metadata": {
        "_uuid": "8f2839f25d086af736a60e9eeb907d3b93b6e0e5",
        "_cell_guid": "b1076dfc-b9ad-4769-8c92-a6c4dae69d19",
        "execution": {
          "iopub.status.busy": "2024-09-18T19:34:29.524959Z",
          "iopub.execute_input": "2024-09-18T19:34:29.525423Z",
          "iopub.status.idle": "2024-09-18T19:34:29.546849Z",
          "shell.execute_reply.started": "2024-09-18T19:34:29.525382Z",
          "shell.execute_reply": "2024-09-18T19:34:29.545258Z"
        },
        "trusted": true,
        "id": "-_6VvIRMpt7z",
        "outputId": "df2344c3-6cac-468b-fa87-2f1046712004",
        "colab": {
          "base_uri": "https://localhost:8080/"
        }
      },
      "execution_count": 2,
      "outputs": [
        {
          "output_type": "stream",
          "name": "stdout",
          "text": [
            "/kaggle/input/argentina-demographics-1869-2022/pad_argentina.csv\n",
            "shape: (19_008, 8)\n",
            "┌───────┬───────────────┬───────────┬──────┬──────────────┬───────────────────┬───────────┬──────┐\n",
            "│ censo ┆ iso_3166-2_AR ┆ provincia ┆ sexo ┆ rango_etario ┆ nativo_extranjero ┆ poblacion ┆      │\n",
            "│ ---   ┆ ---           ┆ ---       ┆ ---  ┆ ---          ┆ ---               ┆ ---       ┆ ---  │\n",
            "│ i64   ┆ str           ┆ str       ┆ str  ┆ str          ┆ str               ┆ i64       ┆ str  │\n",
            "╞═══════╪═══════════════╪═══════════╪══════╪══════════════╪═══════════════════╪═══════════╪══════╡\n",
            "│ 1869  ┆ AR            ┆ ARGENTINA ┆ M    ┆ 05-09        ┆ N                 ┆ 124003    ┆ null │\n",
            "│ 1869  ┆ AR            ┆ ARGENTINA ┆ M    ┆ 10-14        ┆ N                 ┆ 99081     ┆ null │\n",
            "│ 1869  ┆ AR            ┆ ARGENTINA ┆ M    ┆ 00-04        ┆ N                 ┆ 129782    ┆ null │\n",
            "│ 1869  ┆ AR            ┆ ARGENTINA ┆ M    ┆ 15-19        ┆ N                 ┆ 87430     ┆ null │\n",
            "│ 1869  ┆ AR            ┆ ARGENTINA ┆ M    ┆ 20-24        ┆ N                 ┆ 69111     ┆ null │\n",
            "│ …     ┆ …             ┆ …         ┆ …    ┆ …            ┆ …                 ┆ …         ┆ …    │\n",
            "│ 2022  ┆ AR-T          ┆ TUCUMAN   ┆ V    ┆ 65-69        ┆ E                 ┆ 366       ┆ null │\n",
            "│ 2022  ┆ AR-T          ┆ TUCUMAN   ┆ V    ┆ 70-74        ┆ E                 ┆ 332       ┆ null │\n",
            "│ 2022  ┆ AR-T          ┆ TUCUMAN   ┆ V    ┆ 75-79        ┆ E                 ┆ 257       ┆ null │\n",
            "│ 2022  ┆ AR-T          ┆ TUCUMAN   ┆ V    ┆ 80-84        ┆ E                 ┆ 174       ┆ null │\n",
            "│ 2022  ┆ AR-T          ┆ TUCUMAN   ┆ V    ┆ 85+          ┆ E                 ┆ 116       ┆ null │\n",
            "└───────┴───────────────┴───────────┴──────┴──────────────┴───────────────────┴───────────┴──────┘\n"
          ]
        }
      ]
    }
  ]
}